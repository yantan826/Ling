{
 "cells": [
  {
   "cell_type": "code",
   "execution_count": 104,
   "metadata": {},
   "outputs": [],
   "source": [
    "import pandas as pd\n",
    "import numpy as np\n",
    "import matplotlib.pyplot as plt\n",
    "\n",
    "\n",
    "\n",
    "\n",
    "\n",
    "\n",
    "\n",
    "\n"
   ]
  },
  {
   "cell_type": "code",
   "execution_count": 105,
   "metadata": {},
   "outputs": [],
   "source": [
    "df = pd.read_csv('R&D 2025 compilation.csv')"
   ]
  },
  {
   "cell_type": "code",
   "execution_count": 106,
   "metadata": {},
   "outputs": [
    {
     "name": "stdout",
     "output_type": "stream",
     "text": [
      "Successfully loaded 'R&D 2025 compilation.csv'.\n",
      "Generating frequency tables for columns 2 to 10 (0-indexed: 1 to 9).\n",
      "\n",
      "--- Processing Column: 'Age' ---\n",
      "--- Processing Column: 'Gender' ---\n",
      "--- Processing Column: 'Race' ---\n",
      "--- Processing Column: 'Status' ---\n",
      "--- Processing Column: 'Children' ---\n",
      "--- Processing Column: 'Position' ---\n",
      "--- Processing Column: 'Working_exp' ---\n",
      "--- Processing Column: 'Education' ---\n",
      "--- Processing Column: 'Income' ---\n",
      "\n",
      "All frequency tables have been combined and saved to 'R&D_2025_Combined_Frequency_Tables.xlsx' on sheet 'All_Frequencies'.\n"
     ]
    }
   ],
   "source": [
    "import pandas as pd\n",
    "\n",
    "def generate_frequency_tables(file_path, start_col_index, end_col_index, output_excel_path):\n",
    "    \"\"\"\n",
    "    Generates frequency tables for specified columns in a CSV file and saves them to a single sheet in an Excel file.\n",
    "\n",
    "    Args:\n",
    "        file_path (str): The path to the CSV file.\n",
    "        start_col_index (int): The 0-based index of the starting column (inclusive).\n",
    "        end_col_index (int): The 0-based index of the ending column (inclusive).\n",
    "        output_excel_path (str): The path where the Excel file will be saved.\n",
    "    \"\"\"\n",
    "    try:\n",
    "        # Read the CSV file into a pandas DataFrame\n",
    "        df = pd.read_csv(file_path)\n",
    "\n",
    "        print(f\"Successfully loaded '{file_path}'.\")\n",
    "        print(f\"Generating frequency tables for columns {start_col_index + 1} to {end_col_index + 1} (0-indexed: {start_col_index} to {end_col_index}).\\n\")\n",
    "\n",
    "        # Select the desired columns\n",
    "        # Ensure that the column indices are within the DataFrame's bounds\n",
    "        if not (0 <= start_col_index < df.shape[1] and 0 <= end_col_index < df.shape[1] and start_col_index <= end_col_index):\n",
    "            print(f\"Error: Column indices are out of bounds or invalid. The CSV has {df.shape[1]} columns.\")\n",
    "            return\n",
    "\n",
    "        # Get the names of the columns to analyze\n",
    "        # The slice end_col_index + 1 ensures the end_col_index is included\n",
    "        columns_to_analyze = df.columns[start_col_index : end_col_index + 1]\n",
    "\n",
    "        all_frequency_dataframes = []\n",
    "\n",
    "        # Iterate through the selected columns and generate frequency tables\n",
    "        for col_name in columns_to_analyze:\n",
    "            print(f\"--- Processing Column: '{col_name}' ---\")\n",
    "            # Calculate value counts for the current column\n",
    "            frequency_table = df[col_name].value_counts().reset_index()\n",
    "            # Rename columns for clarity in the combined table\n",
    "            frequency_table.columns = ['Value', 'Frequency']\n",
    "            # Add a column to identify the original source column\n",
    "            frequency_table['Original_Column'] = col_name\n",
    "            all_frequency_dataframes.append(frequency_table)\n",
    "\n",
    "        if not all_frequency_dataframes:\n",
    "            print(\"No frequency tables were generated. Please check column indices and file content.\")\n",
    "            return\n",
    "\n",
    "        # Concatenate all individual frequency tables into a single DataFrame\n",
    "        combined_frequency_table = pd.concat(all_frequency_dataframes, ignore_index=True)\n",
    "\n",
    "        # Reorder columns for better readability: Original_Column, Value, Frequency\n",
    "        combined_frequency_table = combined_frequency_table[['Original_Column', 'Value', 'Frequency']]\n",
    "\n",
    "        # Save the combined frequency table to a single sheet in the Excel file\n",
    "        with pd.ExcelWriter(output_excel_path) as writer:\n",
    "            combined_frequency_table.to_excel(writer, sheet_name='All_Frequencies', index=False)\n",
    "            print(f\"\\nAll frequency tables have been combined and saved to '{output_excel_path}' on sheet 'All_Frequencies'.\")\n",
    "\n",
    "    except FileNotFoundError:\n",
    "        print(f\"Error: The file '{file_path}' was not found. Please ensure the file is in the correct directory.\")\n",
    "    except Exception as e:\n",
    "        print(f\"An unexpected error occurred: {e}\")\n",
    "\n",
    "# Define the file path, column range, and output Excel path\n",
    "file_path = 'R&D 2025 compilation.csv'\n",
    "# Columns 1 to 9 (1-indexed) corresponds to 0-indexed columns 0 to 8\n",
    "# However, the user provided 1 and 9, so we will use those values directly.\n",
    "start_column_index = 1\n",
    "end_column_index = 9\n",
    "output_excel_file = 'R&D_2025_Combined_Frequency_Tables.xlsx'\n",
    "\n",
    "# Call the function to generate and save frequency tables\n",
    "generate_frequency_tables(file_path, start_column_index, end_column_index, output_excel_file)\n"
   ]
  },
  {
   "cell_type": "code",
   "execution_count": 107,
   "metadata": {},
   "outputs": [
    {
     "name": "stdout",
     "output_type": "stream",
     "text": [
      "Success! The frequency tables have been saved to 'R&D_2025_Combined_Frequency_Tables.xlsx' in the sheet named 'Frequency_Tables'.\n",
      "\n",
      "Here is the data that was saved:\n",
      "          Column  Correct  Wrong  Total\n",
      "0  Knowledge_2ai      219      2    221\n",
      "1   Knowledge_2b      104    117    221\n",
      "2   Knowledge_2c      118    103    221\n",
      "3   Knowledge_2d      196     25    221\n",
      "4   Knowledge_2e      202     19    221\n",
      "5   Knowledge_2f       78    143    221\n",
      "6   Knowledge_2g      124     97    221\n",
      "7   Knowledge_2h      138     83    221\n"
     ]
    }
   ],
   "source": [
    " # Define the columns to be analyzed and their corresponding correct answers\n",
    "correct_answers = {\n",
    "    'Knowledge_2ai': 'Yes',\n",
    "    'Knowledge_2b': 'Yes',\n",
    "    'Knowledge_2c': 'No',\n",
    "    'Knowledge_2d': 'Yes',\n",
    "    'Knowledge_2e': 'Yes',\n",
    "    'Knowledge_2f': 'No',\n",
    "    'Knowledge_2g': 'Yes',\n",
    "    'Knowledge_2h': 'No'\n",
    "}\n",
    "\n",
    "# Create a list to hold the results for each column\n",
    "results = []\n",
    "\n",
    "# Loop through each column defined in the correct_answers dictionary\n",
    "for col, correct_answer in correct_answers.items():\n",
    "    if col in df.columns:\n",
    "        # To ensure accurate counting, we standardize the text to lowercase and remove leading/trailing whitespace.\n",
    "        # Then, we count the occurrences of each unique value in the column.\n",
    "        counts = df[col].astype(str).str.strip().str.lower().value_counts()\n",
    "\n",
    "        # Get the count for the correct answer. If the answer is not found, default to 0.\n",
    "        correct_count = counts.get(correct_answer.lower(), 0)\n",
    "\n",
    "        # Determine what the \"wrong\" answer is (the opposite of the correct one) and get its count.\n",
    "        wrong_answer = 'no' if correct_answer.lower() == 'yes' else 'yes'\n",
    "        wrong_count = counts.get(wrong_answer, 0)\n",
    "\n",
    "        # Any responses that are not the \"correct\" or \"wrong\" answer are counted as \"Other/Blank\".\n",
    "        other_count = counts.sum() - correct_count - wrong_count\n",
    "\n",
    "        # Append the results for the current column to our list of results\n",
    "        results.append({\n",
    "            'Column': col,\n",
    "            'Correct': correct_count,\n",
    "            'Wrong': wrong_count + other_count,\n",
    "            'Total': counts.sum()\n",
    "        })\n",
    "\n",
    "# Create a pandas DataFrame from the list of results\n",
    "results_df = pd.DataFrame(results)\n",
    "\n",
    "# Define the name of the output Excel file\n",
    "output_excel_file = 'R&D_2025_Combined_Frequency_Tables.xlsx'\n",
    "\n",
    "# Write the DataFrame to an Excel file.\n",
    "# We use pd.ExcelWriter with mode='a' to append to existing Excel file\n",
    "try:\n",
    "    with pd.ExcelWriter(output_excel_file, mode='a', if_sheet_exists='replace') as writer:\n",
    "        # Write our results DataFrame to a new sheet named 'Frequency_Tables'.\n",
    "        # index=False prevents pandas from writing the DataFrame index as a column in the Excel sheet.\n",
    "        results_df.to_excel(writer, sheet_name='Frequency_Tables', index=False)\n",
    "\n",
    "    print(f\"Success! The frequency tables have been saved to '{output_excel_file}' in the sheet named 'Frequency_Tables'.\")\n",
    "    print(\"\\nHere is the data that was saved:\")\n",
    "    print(results_df)\n",
    "\n",
    "except Exception as e:\n",
    "    print(f\"An error occurred while writing to the Excel file: {e}\")"
   ]
  },
  {
   "cell_type": "code",
   "execution_count": 108,
   "metadata": {},
   "outputs": [],
   "source": [
    "# for each row calculate the score 1 if correct answer is according to the correct_answers dictionary, 0 otherwise\n",
    "df['knowledge_score'] = df.apply(lambda row: sum(\n",
    "    1 for col, correct_answer in correct_answers.items() if row[col].strip().lower() == correct_answer.lower()\n",
    "), axis=1)"
   ]
  },
  {
   "cell_type": "code",
   "execution_count": 109,
   "metadata": {},
   "outputs": [
    {
     "data": {
      "text/plain": [
       "<Axes: title={'center': 'Knowledge Score Distribution'}, xlabel='knowledge_score'>"
      ]
     },
     "execution_count": 109,
     "metadata": {},
     "output_type": "execute_result"
    },
    {
     "data": {
      "image/png": "[encoded data removed]",
      "text/plain": [
       "<Figure size 432x288 with 1 Axes>"
      ]
     },
     "metadata": {
      "needs_background": "light"
     },
     "output_type": "display_data"
    }
   ],
   "source": [
    "df.value_counts('knowledge_score').sort_index().plot(kind='bar', title='Knowledge Score Distribution')"
   ]
  },
  {
   "cell_type": "code",
   "execution_count": 110,
   "metadata": {},
   "outputs": [
    {
     "name": "stdout",
     "output_type": "stream",
     "text": [
      "\n",
      "--- Generating Report for Specific Columns (Awareness & Perception) ---\n",
      "\n",
      "Frequency tables for Awareness and Perception have been saved to 'R&D_2025_Combined_Frequency_Tables.xlsx' on sheet 'Awareness_Perception_Frequencies'.\n"
     ]
    },
    {
     "name": "stderr",
     "output_type": "stream",
     "text": [
      "/Users/tankarhau/miniforge3/lib/python3.9/site-packages/openpyxl/workbook/child.py:99: UserWarning: Title is more than 31 characters. Some applications may not be able to read the file\n",
      "  warnings.warn(\"Title is more than 31 characters. Some applications may not be able to read the file\")\n"
     ]
    }
   ],
   "source": [
    "\n",
    "\n",
    "awareness_cols = [f'Awarenes_{i}' for i in range(1, 8)] # awareness_1 to awareness_7\n",
    "perception_cols = [f'Perception_{i}' for i in range(1, 11)] # perception_1 to perception_10\n",
    "awareness_perception_columns = awareness_cols + perception_cols\n",
    "\n",
    "def generate_specific_columns_report(df, list_of_columns):\n",
    "    \"\"\"\n",
    "    Generates a raw frequency count for a specific list of column names.\n",
    "    \"\"\"\n",
    "    print(\"\\n--- Generating Report for Specific Columns (Awareness & Perception) ---\")\n",
    "    sentiment_categories = ['Strongly agree', 'Agree', 'Not sure', 'Disagree', 'Strongly disagree']\n",
    "    # Create an empty dictionary to store the results\n",
    "    results = {}\n",
    "\n",
    "    # Iterate through each column in the DataFrame\n",
    "    for col in df[awareness_perception_columns].columns:\n",
    "        # Count the occurrences of each sentiment category in the current column\n",
    "        # .reindex ensures all sentiment categories are present, filling missing with 0\n",
    "        sentiment_counts = df[col].value_counts().reindex(sentiment_categories, fill_value=0)\n",
    "        results[col] = sentiment_counts\n",
    "\n",
    "    # Create a new DataFrame from the results dictionary\n",
    "    result_df = pd.DataFrame(results).T\n",
    "\n",
    "    # Rename the index to 'Original_Column' for clarity\n",
    "    result_df.index.name = 'Original_Column'\n",
    "    result_df.reset_index(inplace=True)\n",
    "\n",
    "    output_excel_file = 'R&D_2025_Combined_Frequency_Tables.xlsx'\n",
    "    \n",
    "    try:\n",
    "        with pd.ExcelWriter(output_excel_file, mode='a', if_sheet_exists='replace') as writer:\n",
    "            result_df.to_excel(writer, sheet_name='Awareness_Perception_Frequencies', index=False)\n",
    "        print(f\"\\nFrequency tables for Awareness and Perception have been saved to '{output_excel_file}' on sheet 'Awareness_Perception_Frequencies'.\")\n",
    "    except Exception as e:\n",
    "        print(f\"An error occurred while writing to the Excel file: {e}\")\n",
    "    return result_df\n",
    "# Generate the report for the specified columns\n",
    "awareness_perception_report = generate_specific_columns_report(df, awareness_perception_columns)\n",
    "\n",
    "    \n"
   ]
  },
  {
   "cell_type": "code",
   "execution_count": 111,
   "metadata": {},
   "outputs": [],
   "source": [
    "# For: Awareness 3, 5, 6 and Perception 1, 5, 6, 7, 9, 10\n",
    "score_scheme_2 = {\n",
    "    'Strongly agree': 1,\n",
    "    'Agree': 2,\n",
    "    'Not sure': 3,\n",
    "    'Disagree': 4,\n",
    "    'Strongly disagree': 5\n",
    "}\n",
    "\n",
    "# Scheme 2: 1 (Strongly disagree) to 5 (Strongly agree) - This is the standard scheme\n",
    "# For: All other Awareness and Perception columns\n",
    "score_scheme_1 = {\n",
    "    'Strongly disagree': 1,\n",
    "    'Disagree': 2,\n",
    "    'Not sure': 3,\n",
    "    'Agree': 4,\n",
    "    'Strongly agree': 5\n",
    "}\n",
    "\n",
    "scheme_1_cols = [\n",
    "    'Awarenes_3', 'Awarenes_5', 'Awarenes_6',\n",
    "    'Perception_1', 'Perception_5', 'Perception_6', 'Perception_7', 'Perception_9', 'Perception_10'\n",
    "]\n",
    "\n",
    "# Columns using Scheme 2 (the rest)\n",
    "scheme_2_cols = [col for col in awareness_perception_columns if col not in scheme_1_cols]\n",
    "\n",
    "# --- Function to calculate scores based on the defined scoring schemes ---\n",
    "def convert_sentiment_to_score(df, scheme_1_cols, scheme_2_cols, scheme_1_map, scheme_2_map):\n",
    "    \"\"\"\n",
    "    Converts sentiment categories to numerical scores based on defined scoring schemes.\n",
    "    \n",
    "    Args:\n",
    "        df (pd.DataFrame): The DataFrame containing the columns to be scored.\n",
    "        scheme_1_cols (list): List of columns using scoring scheme 1.\n",
    "        scheme_2_cols (list): List of columns using scoring scheme 2.\n",
    "        scheme_1_map (dict): Mapping for scoring scheme 1.\n",
    "        scheme_2_map (dict): Mapping for scoring scheme 2.\n",
    "    \n",
    "    Returns:\n",
    "        pd.DataFrame: DataFrame with new columns for scores.\n",
    "    \"\"\"\n",
    "    # Create a copy of the DataFrame to avoid modifying the original\n",
    "    scored_df = df.copy()\n",
    "    \n",
    "    # Apply scoring scheme 1\n",
    "    for col in scheme_1_cols:\n",
    "        if col in scored_df.columns:\n",
    "            scored_df[col ] = scored_df[col].map(scheme_1_map)\n",
    "    \n",
    "    # Apply scoring scheme 2\n",
    "    for col in scheme_2_cols:\n",
    "        if col in scored_df.columns:\n",
    "            scored_df[col ] = scored_df[col].map(scheme_2_map)\n",
    "    \n",
    "    return scored_df\n",
    "# Convert sentiments to scores using the defined schemes    \n",
    "scored_df = convert_sentiment_to_score(\n",
    "    df[awareness_perception_columns],\n",
    "    scheme_1_cols,\n",
    "    scheme_2_cols,\n",
    "    score_scheme_1,\n",
    "    score_scheme_2\n",
    ")"
   ]
  },
  {
   "cell_type": "code",
   "execution_count": 112,
   "metadata": {},
   "outputs": [],
   "source": [
    "# for scored_df, calculate the total score for Awareness and Perception columns\n",
    "def calculate_total_scores(scored_df, scheme_1_cols, scheme_2_cols):\n",
    "    \"\"\"\n",
    "    Calculates total scores for Awareness and Perception columns.\n",
    "    \n",
    "    Args:\n",
    "        scored_df (pd.DataFrame): DataFrame with scored columns.\n",
    "        scheme_1_cols (list): List of columns using scoring scheme 1.\n",
    "        scheme_2_cols (list): List of columns using scoring scheme 2.\n",
    "    \n",
    "    Returns:\n",
    "        pd.DataFrame: DataFrame with total scores for Awareness and Perception.\n",
    "    \"\"\"\n",
    "    scored_df['awareness_Score'] = scored_df[scheme_1_cols].sum(axis=1)\n",
    "    scored_df['perception_Score'] = scored_df[scheme_2_cols].sum(axis=1)\n",
    "    \n",
    "    return scored_df\n",
    "# Calculate total scores for Awareness and Perception columns\n",
    "scored_df = calculate_total_scores(scored_df, scheme_1_cols, scheme_2_cols)"
   ]
  },
  {
   "cell_type": "code",
   "execution_count": 113,
   "metadata": {},
   "outputs": [],
   "source": [
    "total_scored_df = pd.concat([df['knowledge_score'], scored_df[['awareness_Score', 'perception_Score']]], axis=1)"
   ]
  },
  {
   "cell_type": "code",
   "execution_count": 114,
   "metadata": {},
   "outputs": [
    {
     "data": {
      "image/png": "[encoded data removed]",
      "text/plain": [
       "<Figure size 720x1080 with 3 Axes>"
      ]
     },
     "metadata": {
      "needs_background": "light"
     },
     "output_type": "display_data"
    }
   ],
   "source": [
    "# plot all three scores using subplots\n",
    "def plot_scores(scores_df):\n",
    "    \"\"\"\n",
    "    Plots the scores for knowledge, awareness, and perception using subplots.\n",
    "    \n",
    "    Args:\n",
    "        scores_df (pd.DataFrame): DataFrame containing the scores.\n",
    "    \"\"\"\n",
    "    fig, axes = plt.subplots(3, 1, figsize=(10, 15), sharex=True)\n",
    "    \n",
    "    # Plot Knowledge Score Distribution\n",
    "    scores_df['knowledge_score'].value_counts().sort_index().plot(kind='bar', ax=axes[0], color='skyblue')\n",
    "    axes[0].set_title('Knowledge Score Distribution')\n",
    "    axes[0].set_ylabel('Frequency')\n",
    "    \n",
    "    # Plot Awareness Score Distribution\n",
    "    scores_df['awareness_Score'].value_counts().sort_index().plot(kind='bar', ax=axes[1], color='lightgreen')\n",
    "    axes[1].set_title('Awareness Score Distribution')\n",
    "    axes[1].set_ylabel('Frequency')\n",
    "    \n",
    "    # Plot Perception Score Distribution\n",
    "    scores_df['perception_Score'].value_counts().sort_index().plot(kind='bar', ax=axes[2], color='salmon')\n",
    "    axes[2].set_title('Perception Score Distribution')\n",
    "    axes[2].set_ylabel('Frequency')\n",
    "    \n",
    "    plt.xlabel('Scores')\n",
    "    plt.tight_layout()\n",
    "    plt.show()\n",
    "# Plot the scores\n",
    "plot_scores(total_scored_df)\n"
   ]
  },
  {
   "cell_type": "code",
   "execution_count": 115,
   "metadata": {},
   "outputs": [],
   "source": [
    "# calculate means and standard deviations for knowledge, awareness, and perception scores\n",
    "def calculate_statistics(scores_df):\n",
    "    \"\"\"\n",
    "    Calculates means and standard deviations for knowledge, awareness, and perception scores.\n",
    "    \n",
    "    Args:\n",
    "        scores_df (pd.DataFrame): DataFrame containing the scores.\n",
    "    \n",
    "    Returns:\n",
    "        pd.DataFrame: DataFrame with means and standard deviations.\n",
    "    \"\"\"\n",
    "    stats = {\n",
    "        'Mean': scores_df.mean(),\n",
    "        'Standard Deviation': scores_df.std()\n",
    "    }\n",
    "    return pd.DataFrame(stats)\n",
    "# Calculate statistics for the scores\n",
    "statistics_df = calculate_statistics(total_scored_df[['knowledge_score', 'awareness_Score', 'perception_Score']])"
   ]
  },
  {
   "cell_type": "code",
   "execution_count": 116,
   "metadata": {},
   "outputs": [
    {
     "name": "stdout",
     "output_type": "stream",
     "text": [
      "\n",
      "Statistics have been saved to 'R&D_2025_Combined_Frequency_Tables.xlsx' on sheet 'Scores_Statistics'.\n",
      "\n",
      "Statistics for Knowledge, Awareness, and Perception Scores:\n"
     ]
    },
    {
     "name": "stderr",
     "output_type": "stream",
     "text": [
      "/Users/tankarhau/miniforge3/lib/python3.9/site-packages/openpyxl/workbook/child.py:99: UserWarning: Title is more than 31 characters. Some applications may not be able to read the file\n",
      "  warnings.warn(\"Title is more than 31 characters. Some applications may not be able to read the file\")\n"
     ]
    }
   ],
   "source": [
    "# Save the statistics to the Excel file\n",
    "output_excel_file = 'R&D_2025_Combined_Frequency_Tables.xlsx'\n",
    "\n",
    "try:\n",
    "    with pd.ExcelWriter(output_excel_file, mode='a', if_sheet_exists='replace') as writer:\n",
    "        statistics_df.to_excel(writer, sheet_name='Scores_Statistics')\n",
    "    print(f\"\\nStatistics have been saved to '{output_excel_file}' on sheet 'Scores_Statistics'.\")\n",
    "except Exception as e:\n",
    "    print(f\"An error occurred while writing to the Excel file: {e}\")\n",
    "# Display the statistics DataFrame\n",
    "print(\"\\nStatistics for Knowledge, Awareness, and Perception Scores:\")"
   ]
  },
  {
   "cell_type": "code",
   "execution_count": 117,
   "metadata": {},
   "outputs": [
    {
     "name": "stdout",
     "output_type": "stream",
     "text": [
      "\n",
      "Count of Good and Poor Scores:\n",
      "      Knowledge  Awareness  Perception\n",
      "Good        163        214          15\n",
      "Poor         58          7         206\n",
      "\n",
      "Percentage of Good and Poor Scores:\n",
      "      Knowledge  Awareness  Perception\n",
      "Good      73.76      96.83        6.79\n",
      "Poor      26.24       3.17       93.21\n",
      "\n",
      "Score categories and percentages have been saved to 'R&D_2025_Combined_Frequency_Tables.xlsx'\n"
     ]
    },
    {
     "name": "stderr",
     "output_type": "stream",
     "text": [
      "/Users/tankarhau/miniforge3/lib/python3.9/site-packages/openpyxl/workbook/child.py:99: UserWarning: Title is more than 31 characters. Some applications may not be able to read the file\n",
      "  warnings.warn(\"Title is more than 31 characters. Some applications may not be able to read the file\")\n"
     ]
    }
   ],
   "source": [
    "# Define thresholds for good scores\n",
    "knowledge_threshold = 5\n",
    "awareness_threshold = 25\n",
    "perception_threshold = 35\n",
    "\n",
    "# Calculate counts of good and poor scores\n",
    "def calculate_score_categories(df):\n",
    "    \"\"\"\n",
    "    Calculates the number of good and poor scores for knowledge, awareness, and perception.\n",
    "    \n",
    "    Args:\n",
    "        df (pd.DataFrame): DataFrame containing the scores.\n",
    "    \n",
    "    Returns:\n",
    "        pd.DataFrame: DataFrame with counts of good and poor scores.\n",
    "    \"\"\"\n",
    "    categories = {\n",
    "        'Knowledge': {\n",
    "            'Good': len(df[df['knowledge_score'] >= knowledge_threshold]),\n",
    "            'Poor': len(df[df['knowledge_score'] < knowledge_threshold])\n",
    "        },\n",
    "        'Awareness': {\n",
    "            'Good': len(df[df['awareness_Score'] >= awareness_threshold]),\n",
    "            'Poor': len(df[df['awareness_Score'] < awareness_threshold])\n",
    "        },\n",
    "        'Perception': {\n",
    "            'Good': len(df[df['perception_Score'] >= perception_threshold]),\n",
    "            'Poor': len(df[df['perception_Score'] < perception_threshold])\n",
    "        }\n",
    "    }\n",
    "    return pd.DataFrame(categories)\n",
    "\n",
    "# Calculate and display the categories\n",
    "score_categories = calculate_score_categories(total_scored_df)\n",
    "print(\"\\nCount of Good and Poor Scores:\")\n",
    "print(score_categories)\n",
    "\n",
    "# Calculate percentages\n",
    "total_responses = len(total_scored_df)\n",
    "percentages = score_categories / total_responses * 100\n",
    "print(\"\\nPercentage of Good and Poor Scores:\")\n",
    "print(percentages.round(2))\n",
    "\n",
    "# Save the categories to Excel\n",
    "try:\n",
    "    with pd.ExcelWriter(output_excel_file, mode='a', if_sheet_exists='replace') as writer:\n",
    "        score_categories.to_excel(writer, sheet_name='Score_Categories')\n",
    "        percentages.to_excel(writer, sheet_name='Score_Percentages')\n",
    "    print(f\"\\nScore categories and percentages have been saved to '{output_excel_file}'\")\n",
    "except Exception as e:\n",
    "    print(f\"An error occurred while writing to the Excel file: {e}\")\n"
   ]
  },
  {
   "cell_type": "code",
   "execution_count": null,
   "metadata": {},
   "outputs": [],
   "source": []
  },
  {
   "cell_type": "code",
   "execution_count": 118,
   "metadata": {},
   "outputs": [],
   "source": [
    "from scipy.stats import pearsonr\n"
   ]
  },
  {
   "cell_type": "code",
   "execution_count": 119,
   "metadata": {},
   "outputs": [
    {
     "name": "stdout",
     "output_type": "stream",
     "text": [
      "\n",
      "Correlation between Knowledge, Awareness, and Perception Scores:\n",
      "                  knowledge_score  awareness_Score perception_Score\n",
      "knowledge_score   1.000 (p=0.000)  0.321 (p=0.000)  0.219 (p=0.001)\n",
      "awareness_Score   0.321 (p=0.000)  1.000 (p=0.000)  0.239 (p=0.000)\n",
      "perception_Score  0.219 (p=0.001)  0.239 (p=0.000)  1.000 (p=0.000)\n"
     ]
    }
   ],
   "source": [
    "# study correlation between knowledge, awareness, and perception scores with pearson correlation and p-value\n",
    "def calculate_correlation(df):\n",
    "    \"\"\"\n",
    "    Calculates the Pearson correlation matrix between knowledge, awareness, and perception scores.\n",
    "    \n",
    "    Args:\n",
    "        df (pd.DataFrame): DataFrame containing the scores.\n",
    "    \n",
    "    Returns:\n",
    "        pd.DataFrame: Correlation matrix with variables as both rows and columns.\n",
    "    \"\"\"\n",
    "    \n",
    "    # List of score columns\n",
    "    score_columns = ['knowledge_score', 'awareness_Score', 'perception_Score']\n",
    "    \n",
    "    # Initialize correlation matrix\n",
    "    corr_matrix = pd.DataFrame(index=score_columns, columns=score_columns)\n",
    "    p_value_matrix = pd.DataFrame(index=score_columns, columns=score_columns)\n",
    "    \n",
    "    # Calculate correlations for all pairs\n",
    "    for var1 in score_columns:\n",
    "        for var2 in score_columns:\n",
    "            corr, p_value = pearsonr(df[var1], df[var2])\n",
    "            corr_matrix.loc[var1, var2] = corr\n",
    "            p_value_matrix.loc[var1, var2] = p_value\n",
    "    \n",
    "    # Create a combined DataFrame with both correlation and p-values\n",
    "    combined_matrix = pd.DataFrame(index=score_columns, columns=score_columns)\n",
    "    for var1 in score_columns:\n",
    "        for var2 in score_columns:\n",
    "            combined_matrix.loc[var1, var2] = f\"{corr_matrix.loc[var1, var2]:.3f} (p={p_value_matrix.loc[var1, var2]:.3f})\"\n",
    "    \n",
    "    return combined_matrix\n",
    "\n",
    "# Calculate the correlation between scores\n",
    "correlation_df = calculate_correlation(total_scored_df)\n",
    "# Display the correlation DataFrame\n",
    "print(\"\\nCorrelation between Knowledge, Awareness, and Perception Scores:\")\n",
    "print(correlation_df)\n",
    "# Save the correlation results to the Excel file\n"
   ]
  },
  {
   "cell_type": "code",
   "execution_count": null,
   "metadata": {},
   "outputs": [
    {
     "name": "stdout",
     "output_type": "stream",
     "text": [
      "\n",
      "Correlation results have been saved to 'R&D_2025_Combined_Frequency_Tables.xlsx' on sheet 'Scores_Correlation'.\n"
     ]
    },
    {
     "name": "stderr",
     "output_type": "stream",
     "text": [
      "/Users/tankarhau/miniforge3/lib/python3.9/site-packages/openpyxl/workbook/child.py:99: UserWarning: Title is more than 31 characters. Some applications may not be able to read the file\n",
      "  warnings.warn(\"Title is more than 31 characters. Some applications may not be able to read the file\")\n"
     ]
    }
   ],
   "source": [
    "output_excel_file = 'R&D_2025_Combined_Frequency_Tables.xlsx'\n",
    "correlation_df = correlation_df.reset_index().rename(columns={'index': 'Variable'})\n",
    "try:\n",
    "    with pd.ExcelWriter(output_excel_file, mode='a', if_sheet_exists='replace') as writer:\n",
    "        correlation_df.to_excel(writer, sheet_name='Scores_Correlation', index=False)\n",
    "    print(f\"\\nCorrelation results have been saved to '{output_excel_file}' on sheet 'Scores_Correlation'.\")\n",
    "except Exception as e:\n",
    "    print(f\"An error occurred while writing to the Excel file: {e}\")\n",
    "\n"
   ]
  },
  {
   "cell_type": "code",
   "execution_count": 120,
   "metadata": {},
   "outputs": [
    {
     "data": {
      "image/png": "[encoded data removed]",
      "text/plain": [
       "<Figure size 720x432 with 1 Axes>"
      ]
     },
     "metadata": {
      "needs_background": "light"
     },
     "output_type": "display_data"
    },
    {
     "data": {
      "image/png": "[encoded data removed]",
      "text/plain": [
       "<Figure size 720x432 with 1 Axes>"
      ]
     },
     "metadata": {
      "needs_background": "light"
     },
     "output_type": "display_data"
    },
    {
     "data": {
      "image/png": "[encoded data removed]",
      "text/plain": [
       "<Figure size 720x432 with 1 Axes>"
      ]
     },
     "metadata": {
      "needs_background": "light"
     },
     "output_type": "display_data"
    }
   ],
   "source": [
    "## plot the knowledge, awareness, and perception x values vs y values\n",
    "def plot_scores_vs(df, x_col, y_col, title):\n",
    "    \"\"\"\n",
    "    Plots the relationship between two score columns.\n",
    "    \n",
    "    Args:\n",
    "        df (pd.DataFrame): DataFrame containing the scores.\n",
    "        x_col (str): Column name for the x-axis.\n",
    "        y_col (str): Column name for the y-axis.\n",
    "        title (str): Title of the plot.\n",
    "    \"\"\"\n",
    "    plt.figure(figsize=(10, 6))\n",
    "    plt.scatter(df[x_col], df[y_col], alpha=0.5)\n",
    "    plt.title(title)\n",
    "    plt.xlabel(x_col.replace('_', ' ').title())\n",
    "    plt.ylabel(y_col.replace('_', ' ').title())\n",
    "    plt.grid(True)\n",
    "    plt.show()\n",
    "# Plot Knowledge vs Awareness\n",
    "plot_scores_vs(total_scored_df, 'knowledge_score', 'awareness_Score', 'Knowledge vs Awareness Score')\n",
    "# Plot Knowledge vs Perception\n",
    "plot_scores_vs(total_scored_df, 'knowledge_score', 'perception_Score', 'Knowledge vs Perception Score')\n",
    "# Plot Awareness vs Perception\n",
    "plot_scores_vs(total_scored_df, 'awareness_Score', 'perception_Score', 'Awareness vs Perception Score')\n",
    "# Save the final DataFrame with scores to the Excel file\n"
   ]
  },
  {
   "cell_type": "code",
   "execution_count": 127,
   "metadata": {},
   "outputs": [],
   "source": [
    "final_df.head(2).to_clipboard(index=False)"
   ]
  },
  {
   "cell_type": "code",
   "execution_count": 122,
   "metadata": {},
   "outputs": [],
   "source": [
    "# combine all dataframes into one final dataframe\n",
    "final_df = pd.concat([df, total_scored_df], axis=1)"
   ]
  },
  {
   "cell_type": "code",
   "execution_count": null,
   "metadata": {},
   "outputs": [],
   "source": []
  },
  {
   "cell_type": "code",
   "execution_count": null,
   "metadata": {},
   "outputs": [],
   "source": []
  },
  {
   "cell_type": "code",
   "execution_count": 128,
   "metadata": {},
   "outputs": [
    {
     "ename": "ValueError",
     "evalue": "Data must be 1-dimensional, got ndarray of shape (221, 2) instead",
     "output_type": "error",
     "traceback": [
      "\u001b[0;31m---------------------------------------------------------------------------\u001b[0m",
      "\u001b[0;31mValueError\u001b[0m                                Traceback (most recent call last)",
      "Input \u001b[0;32mIn [128]\u001b[0m, in \u001b[0;36m<module>\u001b[0;34m\u001b[0m\n\u001b[1;32m     21\u001b[0m     \u001b[38;5;28;01mreturn\u001b[39;00m chi2_stat, p_value, dof, expected\n\u001b[1;32m     22\u001b[0m \u001b[38;5;66;03m# Perform Chi-Square test for Age vs Knowledge Score\u001b[39;00m\n\u001b[0;32m---> 23\u001b[0m chi2_stat, p_value, dof, expected \u001b[38;5;241m=\u001b[39m \u001b[43mchi_square_test\u001b[49m\u001b[43m(\u001b[49m\u001b[43mfinal_df\u001b[49m\u001b[43m,\u001b[49m\u001b[43m \u001b[49m\u001b[38;5;124;43m'\u001b[39;49m\u001b[38;5;124;43mAge\u001b[39;49m\u001b[38;5;124;43m'\u001b[39;49m\u001b[43m,\u001b[49m\u001b[43m \u001b[49m\u001b[43mfinal_df\u001b[49m\u001b[38;5;241;43m.\u001b[39;49m\u001b[43mcolumns\u001b[49m\u001b[43m[\u001b[49m\u001b[43mfinal_df\u001b[49m\u001b[38;5;241;43m.\u001b[39;49m\u001b[43mcolumns\u001b[49m\u001b[43m \u001b[49m\u001b[38;5;241;43m==\u001b[39;49m\u001b[43m \u001b[49m\u001b[38;5;124;43m'\u001b[39;49m\u001b[38;5;124;43mknowledge_score\u001b[39;49m\u001b[38;5;124;43m'\u001b[39;49m\u001b[43m]\u001b[49m\u001b[43m[\u001b[49m\u001b[38;5;241;43m0\u001b[39;49m\u001b[43m]\u001b[49m\u001b[43m)\u001b[49m\n\u001b[1;32m     24\u001b[0m \u001b[38;5;28mprint\u001b[39m(\u001b[38;5;124m\"\u001b[39m\u001b[38;5;130;01m\\n\u001b[39;00m\u001b[38;5;124mChi-Square Test Results for Age vs Knowledge Score:\u001b[39m\u001b[38;5;124m\"\u001b[39m)\n\u001b[1;32m     25\u001b[0m \u001b[38;5;28mprint\u001b[39m(\u001b[38;5;124mf\u001b[39m\u001b[38;5;124m\"\u001b[39m\u001b[38;5;124mChi-Square Statistic: \u001b[39m\u001b[38;5;132;01m{\u001b[39;00mchi2_stat\u001b[38;5;132;01m:\u001b[39;00m\u001b[38;5;124m.3f\u001b[39m\u001b[38;5;132;01m}\u001b[39;00m\u001b[38;5;124m, p-value: \u001b[39m\u001b[38;5;132;01m{\u001b[39;00mp_value\u001b[38;5;132;01m:\u001b[39;00m\u001b[38;5;124m.3f\u001b[39m\u001b[38;5;132;01m}\u001b[39;00m\u001b[38;5;124m, Degrees of Freedom: \u001b[39m\u001b[38;5;132;01m{\u001b[39;00mdof\u001b[38;5;132;01m}\u001b[39;00m\u001b[38;5;124m\"\u001b[39m)\n",
      "Input \u001b[0;32mIn [128]\u001b[0m, in \u001b[0;36mchi_square_test\u001b[0;34m(df, col1, col2)\u001b[0m\n\u001b[1;32m      3\u001b[0m \u001b[38;5;28;01mdef\u001b[39;00m \u001b[38;5;21mchi_square_test\u001b[39m(df, col1, col2):\n\u001b[1;32m      4\u001b[0m     \u001b[38;5;124;03m\"\"\"\u001b[39;00m\n\u001b[1;32m      5\u001b[0m \u001b[38;5;124;03m    Performs Chi-Square test of independence between two categorical columns.\u001b[39;00m\n\u001b[1;32m      6\u001b[0m \u001b[38;5;124;03m    \u001b[39;00m\n\u001b[0;32m   (...)\u001b[0m\n\u001b[1;32m     17\u001b[0m \u001b[38;5;124;03m                   converted to a contingency table.\u001b[39;00m\n\u001b[1;32m     18\u001b[0m \u001b[38;5;124;03m    \"\"\"\u001b[39;00m\n\u001b[0;32m---> 19\u001b[0m     contingency_table \u001b[38;5;241m=\u001b[39m \u001b[43mpd\u001b[49m\u001b[38;5;241;43m.\u001b[39;49m\u001b[43mcrosstab\u001b[49m\u001b[43m(\u001b[49m\u001b[43mdf\u001b[49m\u001b[43m[\u001b[49m\u001b[43mcol1\u001b[49m\u001b[43m]\u001b[49m\u001b[43m,\u001b[49m\u001b[43m \u001b[49m\u001b[43mdf\u001b[49m\u001b[43m[\u001b[49m\u001b[43mcol2\u001b[49m\u001b[43m]\u001b[49m\u001b[43m)\u001b[49m\n\u001b[1;32m     20\u001b[0m     chi2_stat, p_value, dof, expected \u001b[38;5;241m=\u001b[39m chi2_contingency(contingency_table)\n\u001b[1;32m     21\u001b[0m     \u001b[38;5;28;01mreturn\u001b[39;00m chi2_stat, p_value, dof, expected\n",
      "File \u001b[0;32m~/miniforge3/lib/python3.9/site-packages/pandas/core/reshape/pivot.py:704\u001b[0m, in \u001b[0;36mcrosstab\u001b[0;34m(index, columns, values, rownames, colnames, aggfunc, margins, margins_name, dropna, normalize)\u001b[0m\n\u001b[1;32m    698\u001b[0m \u001b[38;5;28;01mfrom\u001b[39;00m \u001b[38;5;21;01mpandas\u001b[39;00m \u001b[38;5;28;01mimport\u001b[39;00m DataFrame\n\u001b[1;32m    700\u001b[0m data \u001b[38;5;241m=\u001b[39m {\n\u001b[1;32m    701\u001b[0m     \u001b[38;5;241m*\u001b[39m\u001b[38;5;241m*\u001b[39m\u001b[38;5;28mdict\u001b[39m(\u001b[38;5;28mzip\u001b[39m(unique_rownames, index)),\n\u001b[1;32m    702\u001b[0m     \u001b[38;5;241m*\u001b[39m\u001b[38;5;241m*\u001b[39m\u001b[38;5;28mdict\u001b[39m(\u001b[38;5;28mzip\u001b[39m(unique_colnames, columns)),\n\u001b[1;32m    703\u001b[0m }\n\u001b[0;32m--> 704\u001b[0m df \u001b[38;5;241m=\u001b[39m \u001b[43mDataFrame\u001b[49m\u001b[43m(\u001b[49m\u001b[43mdata\u001b[49m\u001b[43m,\u001b[49m\u001b[43m \u001b[49m\u001b[43mindex\u001b[49m\u001b[38;5;241;43m=\u001b[39;49m\u001b[43mcommon_idx\u001b[49m\u001b[43m)\u001b[49m\n\u001b[1;32m    706\u001b[0m \u001b[38;5;28;01mif\u001b[39;00m values \u001b[38;5;129;01mis\u001b[39;00m \u001b[38;5;28;01mNone\u001b[39;00m:\n\u001b[1;32m    707\u001b[0m     df[\u001b[38;5;124m\"\u001b[39m\u001b[38;5;124m__dummy__\u001b[39m\u001b[38;5;124m\"\u001b[39m] \u001b[38;5;241m=\u001b[39m \u001b[38;5;241m0\u001b[39m\n",
      "File \u001b[0;32m~/miniforge3/lib/python3.9/site-packages/pandas/core/frame.py:709\u001b[0m, in \u001b[0;36mDataFrame.__init__\u001b[0;34m(self, data, index, columns, dtype, copy)\u001b[0m\n\u001b[1;32m    703\u001b[0m     mgr \u001b[38;5;241m=\u001b[39m \u001b[38;5;28mself\u001b[39m\u001b[38;5;241m.\u001b[39m_init_mgr(\n\u001b[1;32m    704\u001b[0m         data, axes\u001b[38;5;241m=\u001b[39m{\u001b[38;5;124m\"\u001b[39m\u001b[38;5;124mindex\u001b[39m\u001b[38;5;124m\"\u001b[39m: index, \u001b[38;5;124m\"\u001b[39m\u001b[38;5;124mcolumns\u001b[39m\u001b[38;5;124m\"\u001b[39m: columns}, dtype\u001b[38;5;241m=\u001b[39mdtype, copy\u001b[38;5;241m=\u001b[39mcopy\n\u001b[1;32m    705\u001b[0m     )\n\u001b[1;32m    707\u001b[0m \u001b[38;5;28;01melif\u001b[39;00m \u001b[38;5;28misinstance\u001b[39m(data, \u001b[38;5;28mdict\u001b[39m):\n\u001b[1;32m    708\u001b[0m     \u001b[38;5;66;03m# GH#38939 de facto copy defaults to False only in non-dict cases\u001b[39;00m\n\u001b[0;32m--> 709\u001b[0m     mgr \u001b[38;5;241m=\u001b[39m \u001b[43mdict_to_mgr\u001b[49m\u001b[43m(\u001b[49m\u001b[43mdata\u001b[49m\u001b[43m,\u001b[49m\u001b[43m \u001b[49m\u001b[43mindex\u001b[49m\u001b[43m,\u001b[49m\u001b[43m \u001b[49m\u001b[43mcolumns\u001b[49m\u001b[43m,\u001b[49m\u001b[43m \u001b[49m\u001b[43mdtype\u001b[49m\u001b[38;5;241;43m=\u001b[39;49m\u001b[43mdtype\u001b[49m\u001b[43m,\u001b[49m\u001b[43m \u001b[49m\u001b[43mcopy\u001b[49m\u001b[38;5;241;43m=\u001b[39;49m\u001b[43mcopy\u001b[49m\u001b[43m,\u001b[49m\u001b[43m \u001b[49m\u001b[43mtyp\u001b[49m\u001b[38;5;241;43m=\u001b[39;49m\u001b[43mmanager\u001b[49m\u001b[43m)\u001b[49m\n\u001b[1;32m    710\u001b[0m \u001b[38;5;28;01melif\u001b[39;00m \u001b[38;5;28misinstance\u001b[39m(data, ma\u001b[38;5;241m.\u001b[39mMaskedArray):\n\u001b[1;32m    711\u001b[0m     \u001b[38;5;28;01mfrom\u001b[39;00m \u001b[38;5;21;01mnumpy\u001b[39;00m\u001b[38;5;21;01m.\u001b[39;00m\u001b[38;5;21;01mma\u001b[39;00m \u001b[38;5;28;01mimport\u001b[39;00m mrecords\n",
      "File \u001b[0;32m~/miniforge3/lib/python3.9/site-packages/pandas/core/internals/construction.py:481\u001b[0m, in \u001b[0;36mdict_to_mgr\u001b[0;34m(data, index, columns, dtype, typ, copy)\u001b[0m\n\u001b[1;32m    477\u001b[0m     \u001b[38;5;28;01melse\u001b[39;00m:\n\u001b[1;32m    478\u001b[0m         \u001b[38;5;66;03m# dtype check to exclude e.g. range objects, scalars\u001b[39;00m\n\u001b[1;32m    479\u001b[0m         arrays \u001b[38;5;241m=\u001b[39m [x\u001b[38;5;241m.\u001b[39mcopy() \u001b[38;5;28;01mif\u001b[39;00m \u001b[38;5;28mhasattr\u001b[39m(x, \u001b[38;5;124m\"\u001b[39m\u001b[38;5;124mdtype\u001b[39m\u001b[38;5;124m\"\u001b[39m) \u001b[38;5;28;01melse\u001b[39;00m x \u001b[38;5;28;01mfor\u001b[39;00m x \u001b[38;5;129;01min\u001b[39;00m arrays]\n\u001b[0;32m--> 481\u001b[0m \u001b[38;5;28;01mreturn\u001b[39;00m \u001b[43marrays_to_mgr\u001b[49m\u001b[43m(\u001b[49m\u001b[43marrays\u001b[49m\u001b[43m,\u001b[49m\u001b[43m \u001b[49m\u001b[43mcolumns\u001b[49m\u001b[43m,\u001b[49m\u001b[43m \u001b[49m\u001b[43mindex\u001b[49m\u001b[43m,\u001b[49m\u001b[43m \u001b[49m\u001b[43mdtype\u001b[49m\u001b[38;5;241;43m=\u001b[39;49m\u001b[43mdtype\u001b[49m\u001b[43m,\u001b[49m\u001b[43m \u001b[49m\u001b[43mtyp\u001b[49m\u001b[38;5;241;43m=\u001b[39;49m\u001b[43mtyp\u001b[49m\u001b[43m,\u001b[49m\u001b[43m \u001b[49m\u001b[43mconsolidate\u001b[49m\u001b[38;5;241;43m=\u001b[39;49m\u001b[43mcopy\u001b[49m\u001b[43m)\u001b[49m\n",
      "File \u001b[0;32m~/miniforge3/lib/python3.9/site-packages/pandas/core/internals/construction.py:120\u001b[0m, in \u001b[0;36marrays_to_mgr\u001b[0;34m(arrays, columns, index, dtype, verify_integrity, typ, consolidate)\u001b[0m\n\u001b[1;32m    117\u001b[0m         index \u001b[38;5;241m=\u001b[39m ensure_index(index)\n\u001b[1;32m    119\u001b[0m     \u001b[38;5;66;03m# don't force copy because getting jammed in an ndarray anyway\u001b[39;00m\n\u001b[0;32m--> 120\u001b[0m     arrays, refs \u001b[38;5;241m=\u001b[39m \u001b[43m_homogenize\u001b[49m\u001b[43m(\u001b[49m\u001b[43marrays\u001b[49m\u001b[43m,\u001b[49m\u001b[43m \u001b[49m\u001b[43mindex\u001b[49m\u001b[43m,\u001b[49m\u001b[43m \u001b[49m\u001b[43mdtype\u001b[49m\u001b[43m)\u001b[49m\n\u001b[1;32m    121\u001b[0m     \u001b[38;5;66;03m# _homogenize ensures\u001b[39;00m\n\u001b[1;32m    122\u001b[0m     \u001b[38;5;66;03m#  - all(len(x) == len(index) for x in arrays)\u001b[39;00m\n\u001b[1;32m    123\u001b[0m     \u001b[38;5;66;03m#  - all(x.ndim == 1 for x in arrays)\u001b[39;00m\n\u001b[0;32m   (...)\u001b[0m\n\u001b[1;32m    126\u001b[0m \n\u001b[1;32m    127\u001b[0m \u001b[38;5;28;01melse\u001b[39;00m:\n\u001b[1;32m    128\u001b[0m     index \u001b[38;5;241m=\u001b[39m ensure_index(index)\n",
      "File \u001b[0;32m~/miniforge3/lib/python3.9/site-packages/pandas/core/internals/construction.py:607\u001b[0m, in \u001b[0;36m_homogenize\u001b[0;34m(data, index, dtype)\u001b[0m\n\u001b[1;32m    604\u001b[0m         val \u001b[38;5;241m=\u001b[39m \u001b[38;5;28mdict\u001b[39m(val)\n\u001b[1;32m    605\u001b[0m     val \u001b[38;5;241m=\u001b[39m lib\u001b[38;5;241m.\u001b[39mfast_multiget(val, oindex\u001b[38;5;241m.\u001b[39m_values, default\u001b[38;5;241m=\u001b[39mnp\u001b[38;5;241m.\u001b[39mnan)\n\u001b[0;32m--> 607\u001b[0m val \u001b[38;5;241m=\u001b[39m \u001b[43msanitize_array\u001b[49m\u001b[43m(\u001b[49m\u001b[43mval\u001b[49m\u001b[43m,\u001b[49m\u001b[43m \u001b[49m\u001b[43mindex\u001b[49m\u001b[43m,\u001b[49m\u001b[43m \u001b[49m\u001b[43mdtype\u001b[49m\u001b[38;5;241;43m=\u001b[39;49m\u001b[43mdtype\u001b[49m\u001b[43m,\u001b[49m\u001b[43m \u001b[49m\u001b[43mcopy\u001b[49m\u001b[38;5;241;43m=\u001b[39;49m\u001b[38;5;28;43;01mFalse\u001b[39;49;00m\u001b[43m)\u001b[49m\n\u001b[1;32m    608\u001b[0m com\u001b[38;5;241m.\u001b[39mrequire_length_match(val, index)\n\u001b[1;32m    609\u001b[0m refs\u001b[38;5;241m.\u001b[39mappend(\u001b[38;5;28;01mNone\u001b[39;00m)\n",
      "File \u001b[0;32m~/miniforge3/lib/python3.9/site-packages/pandas/core/construction.py:581\u001b[0m, in \u001b[0;36msanitize_array\u001b[0;34m(data, index, dtype, copy, allow_2d)\u001b[0m\n\u001b[1;32m    578\u001b[0m \u001b[38;5;28;01melif\u001b[39;00m \u001b[38;5;28mhasattr\u001b[39m(data, \u001b[38;5;124m\"\u001b[39m\u001b[38;5;124m__array__\u001b[39m\u001b[38;5;124m\"\u001b[39m):\n\u001b[1;32m    579\u001b[0m     \u001b[38;5;66;03m# e.g. dask array GH#38645\u001b[39;00m\n\u001b[1;32m    580\u001b[0m     data \u001b[38;5;241m=\u001b[39m np\u001b[38;5;241m.\u001b[39marray(data, copy\u001b[38;5;241m=\u001b[39mcopy)\n\u001b[0;32m--> 581\u001b[0m     \u001b[38;5;28;01mreturn\u001b[39;00m \u001b[43msanitize_array\u001b[49m\u001b[43m(\u001b[49m\n\u001b[1;32m    582\u001b[0m \u001b[43m        \u001b[49m\u001b[43mdata\u001b[49m\u001b[43m,\u001b[49m\n\u001b[1;32m    583\u001b[0m \u001b[43m        \u001b[49m\u001b[43mindex\u001b[49m\u001b[38;5;241;43m=\u001b[39;49m\u001b[43mindex\u001b[49m\u001b[43m,\u001b[49m\n\u001b[1;32m    584\u001b[0m \u001b[43m        \u001b[49m\u001b[43mdtype\u001b[49m\u001b[38;5;241;43m=\u001b[39;49m\u001b[43mdtype\u001b[49m\u001b[43m,\u001b[49m\n\u001b[1;32m    585\u001b[0m \u001b[43m        \u001b[49m\u001b[43mcopy\u001b[49m\u001b[38;5;241;43m=\u001b[39;49m\u001b[38;5;28;43;01mFalse\u001b[39;49;00m\u001b[43m,\u001b[49m\n\u001b[1;32m    586\u001b[0m \u001b[43m        \u001b[49m\u001b[43mallow_2d\u001b[49m\u001b[38;5;241;43m=\u001b[39;49m\u001b[43mallow_2d\u001b[49m\u001b[43m,\u001b[49m\n\u001b[1;32m    587\u001b[0m \u001b[43m    \u001b[49m\u001b[43m)\u001b[49m\n\u001b[1;32m    589\u001b[0m \u001b[38;5;28;01melse\u001b[39;00m:\n\u001b[1;32m    590\u001b[0m     _sanitize_non_ordered(data)\n",
      "File \u001b[0;32m~/miniforge3/lib/python3.9/site-packages/pandas/core/construction.py:607\u001b[0m, in \u001b[0;36msanitize_array\u001b[0;34m(data, index, dtype, copy, allow_2d)\u001b[0m\n\u001b[1;32m    604\u001b[0m             subarr \u001b[38;5;241m=\u001b[39m cast(np\u001b[38;5;241m.\u001b[39mndarray, subarr)\n\u001b[1;32m    605\u001b[0m             subarr \u001b[38;5;241m=\u001b[39m maybe_infer_to_datetimelike(subarr)\n\u001b[0;32m--> 607\u001b[0m subarr \u001b[38;5;241m=\u001b[39m \u001b[43m_sanitize_ndim\u001b[49m\u001b[43m(\u001b[49m\u001b[43msubarr\u001b[49m\u001b[43m,\u001b[49m\u001b[43m \u001b[49m\u001b[43mdata\u001b[49m\u001b[43m,\u001b[49m\u001b[43m \u001b[49m\u001b[43mdtype\u001b[49m\u001b[43m,\u001b[49m\u001b[43m \u001b[49m\u001b[43mindex\u001b[49m\u001b[43m,\u001b[49m\u001b[43m \u001b[49m\u001b[43mallow_2d\u001b[49m\u001b[38;5;241;43m=\u001b[39;49m\u001b[43mallow_2d\u001b[49m\u001b[43m)\u001b[49m\n\u001b[1;32m    609\u001b[0m \u001b[38;5;28;01mif\u001b[39;00m \u001b[38;5;28misinstance\u001b[39m(subarr, np\u001b[38;5;241m.\u001b[39mndarray):\n\u001b[1;32m    610\u001b[0m     \u001b[38;5;66;03m# at this point we should have dtype be None or subarr.dtype == dtype\u001b[39;00m\n\u001b[1;32m    611\u001b[0m     dtype \u001b[38;5;241m=\u001b[39m cast(np\u001b[38;5;241m.\u001b[39mdtype, dtype)\n",
      "File \u001b[0;32m~/miniforge3/lib/python3.9/site-packages/pandas/core/construction.py:666\u001b[0m, in \u001b[0;36m_sanitize_ndim\u001b[0;34m(result, data, dtype, index, allow_2d)\u001b[0m\n\u001b[1;32m    664\u001b[0m     \u001b[38;5;28;01mif\u001b[39;00m allow_2d:\n\u001b[1;32m    665\u001b[0m         \u001b[38;5;28;01mreturn\u001b[39;00m result\n\u001b[0;32m--> 666\u001b[0m     \u001b[38;5;28;01mraise\u001b[39;00m \u001b[38;5;167;01mValueError\u001b[39;00m(\n\u001b[1;32m    667\u001b[0m         \u001b[38;5;124mf\u001b[39m\u001b[38;5;124m\"\u001b[39m\u001b[38;5;124mData must be 1-dimensional, got ndarray of shape \u001b[39m\u001b[38;5;132;01m{\u001b[39;00mdata\u001b[38;5;241m.\u001b[39mshape\u001b[38;5;132;01m}\u001b[39;00m\u001b[38;5;124m instead\u001b[39m\u001b[38;5;124m\"\u001b[39m\n\u001b[1;32m    668\u001b[0m     )\n\u001b[1;32m    669\u001b[0m \u001b[38;5;28;01mif\u001b[39;00m is_object_dtype(dtype) \u001b[38;5;129;01mand\u001b[39;00m \u001b[38;5;28misinstance\u001b[39m(dtype, ExtensionDtype):\n\u001b[1;32m    670\u001b[0m     \u001b[38;5;66;03m# i.e. PandasDtype(\"O\")\u001b[39;00m\n\u001b[1;32m    672\u001b[0m     result \u001b[38;5;241m=\u001b[39m com\u001b[38;5;241m.\u001b[39masarray_tuplesafe(data, dtype\u001b[38;5;241m=\u001b[39mnp\u001b[38;5;241m.\u001b[39mdtype(\u001b[38;5;124m\"\u001b[39m\u001b[38;5;124mobject\u001b[39m\u001b[38;5;124m\"\u001b[39m))\n",
      "\u001b[0;31mValueError\u001b[0m: Data must be 1-dimensional, got ndarray of shape (221, 2) instead"
     ]
    }
   ],
   "source": [
    "from scipy.stats import chi2_contingency\n",
    "\n",
    "def chi_square_test(df, col1, col2):\n",
    "    \"\"\"\n",
    "    Performs Chi-Square test of independence between two categorical columns.\n",
    "    \n",
    "    Args:\n",
    "        df (pd.DataFrame): DataFrame containing the data.\n",
    "        col1 (str): First column name.\n",
    "        col2 (str): Second column name.\n",
    "    \n",
    "    Returns:\n",
    "        tuple: Chi-Square statistic, p-value, degrees of freedom, and expected frequencies.\n",
    "        \n",
    "    Raises:\n",
    "        ValueError: If the input columns are not categorical or if the data cannot be properly\n",
    "                   converted to a contingency table.\n",
    "    \"\"\"\n",
    "    contingency_table = pd.crosstab(df[col1], df[col2])\n",
    "    chi2_stat, p_value, dof, expected = chi2_contingency(contingency_table)\n",
    "    return chi2_stat, p_value, dof, expected\n",
    "# Perform Chi-Square test for Age vs Knowledge Score\n",
    "chi2_stat, p_value, dof, expected = chi_square_test(final_df, 'Age', final_df.columns[final_df.columns == 'knowledge_score'][0])\n",
    "print(\"\\nChi-Square Test Results for Age vs Knowledge Score:\")\n",
    "print(f\"Chi-Square Statistic: {chi2_stat:.3f}, p-value: {p_value:.3f}, Degrees of Freedom: {dof}\")\n"
   ]
  },
  {
   "cell_type": "code",
   "execution_count": 126,
   "metadata": {},
   "outputs": [],
   "source": [
    "final_df.to_clipboard(index=False)"
   ]
  }
 ],
 "metadata": {
  "kernelspec": {
   "display_name": "base",
   "language": "python",
   "name": "python3"
  },
  "language_info": {
   "codemirror_mode": {
    "name": "ipython",
    "version": 3
   },
   "file_extension": ".py",
   "mimetype": "text/x-python",
   "name": "python",
   "nbconvert_exporter": "python",
   "pygments_lexer": "ipython3",
   "version": "3.9.7"
  }
 },
 "nbformat": 4,
 "nbformat_minor": 2
}
